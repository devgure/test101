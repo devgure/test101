# ai/notebooks/ai_matcher_training.ipynb
import pandas as pd
import numpy as np
from sklearn.feature_extraction.text import TfidfVectorizer
from sklearn.metrics.pairwise import cosine_similarity
import joblib

# Load user profiles
df = pd.read_csv("users.csv")  # id, bio, interests, location

# TF-IDF on bio + interests
vectorizer = TfidfVectorizer()
X = vectorizer.fit_transform(df['bio'] + " " + df['interests'])

# Save model
joblib.dump(vectorizer, 'ai/matcher/vectorizer.pkl')
np.save('ai/matcher/embeddings.npy', X.toarray())

print("Model trained and saved!")